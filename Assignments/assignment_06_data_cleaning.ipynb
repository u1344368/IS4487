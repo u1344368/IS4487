{
  "cells": [
    {
      "cell_type": "markdown",
      "metadata": {
        "id": "avCbnNj5RTDb"
      },
      "source": [
        "# IS 4487 Assignment 6: Data Cleaning with Airbnb Listings\n",
        "\n",
        "In this assignment, you will:\n",
        "- Load a raw Airbnb listings dataset\n",
        "- Identify and resolve missing or inconsistent data\n",
        "- Decide what data to drop, keep, or clean\n",
        "- Save a clean dataset to use in Assignment 7\n",
        "\n",
        "## Why This Matters\n",
        "\n",
        "Data cleaning is one of the most important steps in any analysis — but it's often the least visible. Airbnb hosts, managers, and policy teams rely on clean data to make decisions. This assignment gives you experience cleaning raw data and justifying your choices so others can understand your process.\n",
        "\n",
        "<a href=\"https://colab.research.google.com/github/Stan-Pugsley/is_4487_base/blob/main/Assignments/assignment_06_data_cleaning.ipynb\" target=\"_parent\">\n",
        "  <img src=\"https://colab.research.google.com/assets/colab-badge.svg\" alt=\"Open In Colab\"/>\n",
        "</a>\n",
        "\n"
      ]
    },
    {
      "cell_type": "markdown",
      "metadata": {
        "id": "-YtEOclERnZ8"
      },
      "source": [
        "## Dataset Description\n",
        "\n",
        "The dataset you'll be using is a **detailed Airbnb listing file**, available from [Inside Airbnb](https://insideairbnb.com/get-the-data/).\n",
        "\n",
        "Each row represents one property listing. The columns include:\n",
        "\n",
        "- **Host attributes** (e.g., host ID, host name, host response time)\n",
        "- **Listing details** (e.g., price, room type, minimum nights, availability)\n",
        "- **Location data** (e.g., neighborhood, latitude/longitude)\n",
        "- **Property characteristics** (e.g., number of bedrooms, amenities, accommodates)\n",
        "- **Calendar/booking variables** (e.g., last review date, number of reviews)\n",
        "\n",
        "📌 The schema is consistent across cities, so you can expect similar columns regardless of the location you choose.\n"
      ]
    },
    {
      "cell_type": "markdown",
      "metadata": {
        "id": "Rl-WZK3kRs_9"
      },
      "source": [
        "## 1. Choose a City & Upload Your Dataset\n",
        "\n",
        "📥 Follow these steps:\n",
        "\n",
        "1. Go to: [https://insideairbnb.com/get-the-data/](https://insideairbnb.com/get-the-data/)\n",
        "2. Choose a city you’re interested in.\n",
        "3. Download the file named: **`listings.csv.gz`** under that city.\n",
        "4. In your notebook:\n",
        "   - Open the left sidebar\n",
        "   - Click the folder icon 📁\n",
        "   - Click the upload icon ⬆️ and choose your `listings.csv.gz` file\n",
        "5. Use the file path `/content/listings.csv.gz` when loading your data.\n",
        "6. Import standard libraries (`pandas`, `numpy`, `seaborn`, `matplotlib`)\n"
      ]
    },
    {
      "cell_type": "code",
      "execution_count": 16,
      "metadata": {
        "id": "j1o2VjQNRLI1"
      },
      "outputs": [],
      "source": [
        "# Import necessary libraries 🔧\n",
        "import pandas as pd\n",
        "import numpy as np\n",
        "import seaborn as sns\n",
        "import matplotlib.pyplot as plt"
      ]
    },
    {
      "cell_type": "code",
      "execution_count": 17,
      "metadata": {
        "id": "05dzhQHzR0vt"
      },
      "outputs": [],
      "source": [
        "# Load your uploaded file (path \"/content/listings.csv.gz\") 🔧\n",
        "df = pd.read_csv('/content/listings.csv.gz')"
      ]
    },
    {
      "cell_type": "markdown",
      "metadata": {
        "id": "aKeLPILuR6J8"
      },
      "source": [
        "## 2. Explore Missing Values\n",
        "\n",
        "Business framing:\n",
        "\n",
        "Stakeholders don’t like surprises in the data. Missing values can break dashboards, confuse pricing models, or create blind spots for host managers.\n",
        "\n",
        "Explore how complete your dataset is:\n",
        "- Count the null values of each column\n",
        "- Create visuals (e.g. heatmaps, boxplots, bar charts, etc) to help show what columns are missing values\n",
        "- Keep in mind which column(s) are missing too much data, you will delete these in the next step\n",
        "\n",
        "### In your markdown:\n",
        "1. What are the top 3 columns with the most missing values?\n",
        "2. Which ones are likely to create business issues?\n",
        "3. Which could be safely ignored or dropped?\n",
        "\n"
      ]
    },
    {
      "cell_type": "code",
      "execution_count": 18,
      "metadata": {
        "id": "W8HxUf-YR5o5",
        "colab": {
          "base_uri": "https://localhost:8080/"
        },
        "outputId": "c4b3b68f-7ecb-4a93-b6c6-c29647b53ace"
      },
      "outputs": [
        {
          "output_type": "stream",
          "name": "stdout",
          "text": [
            "id                                               0\n",
            "listing_url                                      0\n",
            "scrape_id                                        0\n",
            "last_scraped                                     0\n",
            "source                                           0\n",
            "                                                ..\n",
            "calculated_host_listings_count                   0\n",
            "calculated_host_listings_count_entire_homes      0\n",
            "calculated_host_listings_count_private_rooms     0\n",
            "calculated_host_listings_count_shared_rooms      0\n",
            "reviews_per_month                               68\n",
            "Length: 79, dtype: int64\n"
          ]
        }
      ],
      "source": [
        "# Add code here 🔧\n",
        "count_null = df.isnull().sum()\n",
        "print(count_null)"
      ]
    },
    {
      "cell_type": "code",
      "source": [
        "df.info()"
      ],
      "metadata": {
        "colab": {
          "base_uri": "https://localhost:8080/"
        },
        "id": "IRn8xSUMUeys",
        "outputId": "cdb28607-467d-46bc-bab5-8e929823abe5"
      },
      "execution_count": 19,
      "outputs": [
        {
          "output_type": "stream",
          "name": "stdout",
          "text": [
            "<class 'pandas.core.frame.DataFrame'>\n",
            "RangeIndex: 459 entries, 0 to 458\n",
            "Data columns (total 79 columns):\n",
            " #   Column                                        Non-Null Count  Dtype  \n",
            "---  ------                                        --------------  -----  \n",
            " 0   id                                            459 non-null    int64  \n",
            " 1   listing_url                                   459 non-null    object \n",
            " 2   scrape_id                                     459 non-null    int64  \n",
            " 3   last_scraped                                  459 non-null    object \n",
            " 4   source                                        459 non-null    object \n",
            " 5   name                                          459 non-null    object \n",
            " 6   description                                   449 non-null    object \n",
            " 7   neighborhood_overview                         196 non-null    object \n",
            " 8   picture_url                                   459 non-null    object \n",
            " 9   host_id                                       459 non-null    int64  \n",
            " 10  host_url                                      459 non-null    object \n",
            " 11  host_name                                     459 non-null    object \n",
            " 12  host_since                                    459 non-null    object \n",
            " 13  host_location                                 345 non-null    object \n",
            " 14  host_about                                    251 non-null    object \n",
            " 15  host_response_time                            431 non-null    object \n",
            " 16  host_response_rate                            431 non-null    object \n",
            " 17  host_acceptance_rate                          446 non-null    object \n",
            " 18  host_is_superhost                             452 non-null    object \n",
            " 19  host_thumbnail_url                            459 non-null    object \n",
            " 20  host_picture_url                              459 non-null    object \n",
            " 21  host_neighbourhood                            389 non-null    object \n",
            " 22  host_listings_count                           459 non-null    int64  \n",
            " 23  host_total_listings_count                     459 non-null    int64  \n",
            " 24  host_verifications                            459 non-null    object \n",
            " 25  host_has_profile_pic                          459 non-null    object \n",
            " 26  host_identity_verified                        459 non-null    object \n",
            " 27  neighbourhood                                 196 non-null    object \n",
            " 28  neighbourhood_cleansed                        459 non-null    object \n",
            " 29  neighbourhood_group_cleansed                  0 non-null      float64\n",
            " 30  latitude                                      459 non-null    float64\n",
            " 31  longitude                                     459 non-null    float64\n",
            " 32  property_type                                 459 non-null    object \n",
            " 33  room_type                                     459 non-null    object \n",
            " 34  accommodates                                  459 non-null    int64  \n",
            " 35  bathrooms                                     419 non-null    float64\n",
            " 36  bathrooms_text                                459 non-null    object \n",
            " 37  bedrooms                                      453 non-null    float64\n",
            " 38  beds                                          419 non-null    float64\n",
            " 39  amenities                                     459 non-null    object \n",
            " 40  price                                         419 non-null    object \n",
            " 41  minimum_nights                                459 non-null    int64  \n",
            " 42  maximum_nights                                459 non-null    int64  \n",
            " 43  minimum_minimum_nights                        459 non-null    int64  \n",
            " 44  maximum_minimum_nights                        459 non-null    int64  \n",
            " 45  minimum_maximum_nights                        459 non-null    int64  \n",
            " 46  maximum_maximum_nights                        459 non-null    int64  \n",
            " 47  minimum_nights_avg_ntm                        459 non-null    float64\n",
            " 48  maximum_nights_avg_ntm                        459 non-null    float64\n",
            " 49  calendar_updated                              0 non-null      float64\n",
            " 50  has_availability                              451 non-null    object \n",
            " 51  availability_30                               459 non-null    int64  \n",
            " 52  availability_60                               459 non-null    int64  \n",
            " 53  availability_90                               459 non-null    int64  \n",
            " 54  availability_365                              459 non-null    int64  \n",
            " 55  calendar_last_scraped                         459 non-null    object \n",
            " 56  number_of_reviews                             459 non-null    int64  \n",
            " 57  number_of_reviews_ltm                         459 non-null    int64  \n",
            " 58  number_of_reviews_l30d                        459 non-null    int64  \n",
            " 59  availability_eoy                              459 non-null    int64  \n",
            " 60  number_of_reviews_ly                          459 non-null    int64  \n",
            " 61  estimated_occupancy_l365d                     459 non-null    int64  \n",
            " 62  estimated_revenue_l365d                       419 non-null    float64\n",
            " 63  first_review                                  391 non-null    object \n",
            " 64  last_review                                   391 non-null    object \n",
            " 65  review_scores_rating                          391 non-null    float64\n",
            " 66  review_scores_accuracy                        391 non-null    float64\n",
            " 67  review_scores_cleanliness                     391 non-null    float64\n",
            " 68  review_scores_checkin                         391 non-null    float64\n",
            " 69  review_scores_communication                   391 non-null    float64\n",
            " 70  review_scores_location                        391 non-null    float64\n",
            " 71  review_scores_value                           391 non-null    float64\n",
            " 72  license                                       0 non-null      float64\n",
            " 73  instant_bookable                              459 non-null    object \n",
            " 74  calculated_host_listings_count                459 non-null    int64  \n",
            " 75  calculated_host_listings_count_entire_homes   459 non-null    int64  \n",
            " 76  calculated_host_listings_count_private_rooms  459 non-null    int64  \n",
            " 77  calculated_host_listings_count_shared_rooms   459 non-null    int64  \n",
            " 78  reviews_per_month                             391 non-null    float64\n",
            "dtypes: float64(19), int64(26), object(34)\n",
            "memory usage: 283.4+ KB\n"
          ]
        }
      ]
    },
    {
      "cell_type": "code",
      "source": [
        "null_counts = df.isnull().sum()\n",
        "null_counts = null_counts[null_counts > 0]\n",
        "null_counts_sorted = null_counts.sort_values(ascending=False)\n",
        "print(null_counts_sorted)"
      ],
      "metadata": {
        "colab": {
          "base_uri": "https://localhost:8080/"
        },
        "id": "s5ndDsFhUjg-",
        "outputId": "f5691684-92d1-49d7-85d8-dd549b304750"
      },
      "execution_count": 20,
      "outputs": [
        {
          "output_type": "stream",
          "name": "stdout",
          "text": [
            "neighbourhood_group_cleansed    459\n",
            "license                         459\n",
            "calendar_updated                459\n",
            "neighbourhood                   263\n",
            "neighborhood_overview           263\n",
            "host_about                      208\n",
            "host_location                   114\n",
            "host_neighbourhood               70\n",
            "review_scores_accuracy           68\n",
            "review_scores_rating             68\n",
            "last_review                      68\n",
            "review_scores_checkin            68\n",
            "review_scores_cleanliness        68\n",
            "review_scores_communication      68\n",
            "review_scores_location           68\n",
            "review_scores_value              68\n",
            "reviews_per_month                68\n",
            "first_review                     68\n",
            "price                            40\n",
            "bathrooms                        40\n",
            "estimated_revenue_l365d          40\n",
            "beds                             40\n",
            "host_response_rate               28\n",
            "host_response_time               28\n",
            "host_acceptance_rate             13\n",
            "description                      10\n",
            "has_availability                  8\n",
            "host_is_superhost                 7\n",
            "bedrooms                          6\n",
            "dtype: int64\n"
          ]
        }
      ]
    },
    {
      "cell_type": "code",
      "source": [
        "sns.heatmap(df.isnull(), cbar=False)"
      ],
      "metadata": {
        "colab": {
          "base_uri": "https://localhost:8080/",
          "height": 751
        },
        "id": "JiLqapODUskd",
        "outputId": "e617dab1-bc82-4c5a-abc8-623bef434d98"
      },
      "execution_count": 21,
      "outputs": [
        {
          "output_type": "execute_result",
          "data": {
            "text/plain": [
              "<Axes: >"
            ]
          },
          "metadata": {},
          "execution_count": 21
        },
        {
          "output_type": "display_data",
          "data": {
            "text/plain": [
              "<Figure size 640x480 with 1 Axes>"
            ],
            "image/png": "[encoded data removed]"
          },
          "metadata": {}
        }
      ]
    },
    {
      "cell_type": "markdown",
      "metadata": {
        "id": "2R5FRgTbGY9G"
      },
      "source": [
        "### ✍️ Your Response: 🔧\n",
        "1. The columns with the most null values are license with 459, calendar_updated with 459, and neighbourhood with 263.\n",
        "\n",
        "2. The ones that are likely to create business issues are license and neighbourhood. License will affect business issues the most if it is necessary to have a permit/license for Airbnb. However, the fact that all 459 columns don't have one could mean that it is not required. If it is, it would cause them to face legal issues. Also,for the neighbourhood variable, consumers want to know what neighborhood the airbnb is, as that is a consideriation when picking where to stay. Same with neighbourhood_overview.\n",
        "\n",
        "3. If an Airbnb license isn't necessary, then that can be dropped. Calender_updated can dropped as well since all of the variables don't have that.\n"
      ]
    },
    {
      "cell_type": "markdown",
      "metadata": {
        "id": "4LCyzSZ8R-MI"
      },
      "source": [
        "## 3. Drop Columns That Aren’t Useful\n",
        "\n",
        "Business framing:  \n",
        "\n",
        "Not every column adds value. Analysts often remove columns that are too empty, irrelevant, or repetitive — especially when preparing data for others.\n",
        "\n",
        "Make a decision:\n",
        "\n",
        "- Choose 2–4 columns to drop from your dataset\n",
        "- Document your reasons for each one\n",
        "- Confirm they're gone with `.head()` or `.info()`\n",
        "\n",
        "### In Your Response:\n",
        "1. Which columns did you drop?\n",
        "2. Why were they not useful from a business perspective?\n",
        "3. What could go wrong if you left them in?\n",
        "\n"
      ]
    },
    {
      "cell_type": "code",
      "execution_count": 22,
      "metadata": {
        "id": "GvQDqSfPSD-3",
        "colab": {
          "base_uri": "https://localhost:8080/"
        },
        "outputId": "a88bd543-ab23-4faf-b23e-800a5dd3f9cf"
      },
      "outputs": [
        {
          "output_type": "stream",
          "name": "stdout",
          "text": [
            "<class 'pandas.core.frame.DataFrame'>\n",
            "RangeIndex: 459 entries, 0 to 458\n",
            "Data columns (total 77 columns):\n",
            " #   Column                                        Non-Null Count  Dtype  \n",
            "---  ------                                        --------------  -----  \n",
            " 0   id                                            459 non-null    int64  \n",
            " 1   listing_url                                   459 non-null    object \n",
            " 2   scrape_id                                     459 non-null    int64  \n",
            " 3   last_scraped                                  459 non-null    object \n",
            " 4   source                                        459 non-null    object \n",
            " 5   name                                          459 non-null    object \n",
            " 6   description                                   449 non-null    object \n",
            " 7   neighborhood_overview                         196 non-null    object \n",
            " 8   picture_url                                   459 non-null    object \n",
            " 9   host_id                                       459 non-null    int64  \n",
            " 10  host_url                                      459 non-null    object \n",
            " 11  host_name                                     459 non-null    object \n",
            " 12  host_since                                    459 non-null    object \n",
            " 13  host_location                                 345 non-null    object \n",
            " 14  host_about                                    251 non-null    object \n",
            " 15  host_response_time                            431 non-null    object \n",
            " 16  host_response_rate                            431 non-null    object \n",
            " 17  host_acceptance_rate                          446 non-null    object \n",
            " 18  host_is_superhost                             452 non-null    object \n",
            " 19  host_thumbnail_url                            459 non-null    object \n",
            " 20  host_picture_url                              459 non-null    object \n",
            " 21  host_neighbourhood                            389 non-null    object \n",
            " 22  host_listings_count                           459 non-null    int64  \n",
            " 23  host_total_listings_count                     459 non-null    int64  \n",
            " 24  host_verifications                            459 non-null    object \n",
            " 25  host_has_profile_pic                          459 non-null    object \n",
            " 26  host_identity_verified                        459 non-null    object \n",
            " 27  neighbourhood                                 196 non-null    object \n",
            " 28  neighbourhood_cleansed                        459 non-null    object \n",
            " 29  neighbourhood_group_cleansed                  0 non-null      float64\n",
            " 30  latitude                                      459 non-null    float64\n",
            " 31  longitude                                     459 non-null    float64\n",
            " 32  property_type                                 459 non-null    object \n",
            " 33  room_type                                     459 non-null    object \n",
            " 34  accommodates                                  459 non-null    int64  \n",
            " 35  bathrooms                                     419 non-null    float64\n",
            " 36  bathrooms_text                                459 non-null    object \n",
            " 37  bedrooms                                      453 non-null    float64\n",
            " 38  beds                                          419 non-null    float64\n",
            " 39  amenities                                     459 non-null    object \n",
            " 40  price                                         419 non-null    object \n",
            " 41  minimum_nights                                459 non-null    int64  \n",
            " 42  maximum_nights                                459 non-null    int64  \n",
            " 43  minimum_minimum_nights                        459 non-null    int64  \n",
            " 44  maximum_minimum_nights                        459 non-null    int64  \n",
            " 45  minimum_maximum_nights                        459 non-null    int64  \n",
            " 46  maximum_maximum_nights                        459 non-null    int64  \n",
            " 47  minimum_nights_avg_ntm                        459 non-null    float64\n",
            " 48  maximum_nights_avg_ntm                        459 non-null    float64\n",
            " 49  has_availability                              451 non-null    object \n",
            " 50  availability_30                               459 non-null    int64  \n",
            " 51  availability_60                               459 non-null    int64  \n",
            " 52  availability_90                               459 non-null    int64  \n",
            " 53  availability_365                              459 non-null    int64  \n",
            " 54  calendar_last_scraped                         459 non-null    object \n",
            " 55  number_of_reviews                             459 non-null    int64  \n",
            " 56  number_of_reviews_ltm                         459 non-null    int64  \n",
            " 57  number_of_reviews_l30d                        459 non-null    int64  \n",
            " 58  availability_eoy                              459 non-null    int64  \n",
            " 59  number_of_reviews_ly                          459 non-null    int64  \n",
            " 60  estimated_occupancy_l365d                     459 non-null    int64  \n",
            " 61  estimated_revenue_l365d                       419 non-null    float64\n",
            " 62  first_review                                  391 non-null    object \n",
            " 63  last_review                                   391 non-null    object \n",
            " 64  review_scores_rating                          391 non-null    float64\n",
            " 65  review_scores_accuracy                        391 non-null    float64\n",
            " 66  review_scores_cleanliness                     391 non-null    float64\n",
            " 67  review_scores_checkin                         391 non-null    float64\n",
            " 68  review_scores_communication                   391 non-null    float64\n",
            " 69  review_scores_location                        391 non-null    float64\n",
            " 70  review_scores_value                           391 non-null    float64\n",
            " 71  instant_bookable                              459 non-null    object \n",
            " 72  calculated_host_listings_count                459 non-null    int64  \n",
            " 73  calculated_host_listings_count_entire_homes   459 non-null    int64  \n",
            " 74  calculated_host_listings_count_private_rooms  459 non-null    int64  \n",
            " 75  calculated_host_listings_count_shared_rooms   459 non-null    int64  \n",
            " 76  reviews_per_month                             391 non-null    float64\n",
            "dtypes: float64(17), int64(26), object(34)\n",
            "memory usage: 276.2+ KB\n"
          ]
        }
      ],
      "source": [
        "# Add code here 🔧\n",
        "df = df.drop(columns=['license', 'calendar_updated'])\n",
        "df.info()"
      ]
    },
    {
      "cell_type": "markdown",
      "metadata": {
        "id": "WWR4HiV9GJVY"
      },
      "source": [
        "### ✍️ Your Response: 🔧\n",
        "1. The columns I dropped where license and calender_updated.\n",
        "\n",
        "2. Both the license and calender_updated columns were not useful because they were absent for all the variables, so did not affect the data or the end-result in any way. Keeping track of that data is a waste of resources.\n",
        "\n",
        "3. If they were kept in, they could skew the data and give faulty results.\n",
        "\n"
      ]
    },
    {
      "cell_type": "markdown",
      "metadata": {
        "id": "0CtWLg_LSHNd"
      },
      "source": [
        "## 4. Fill or Fix Values in Key Columns\n",
        "\n",
        "Business framing:  \n",
        "\n",
        "Let’s say your manager wants to see a map of listings with prices and review scores. If key fields are blank, the map won’t work. But not all missing values should be filled the same way.\n",
        "\n",
        "- Choose 2 columns with missing values\n",
        "- Use a strategy to fill or flag those values\n",
        "  - (e.g., median, “unknown”, forward-fill, or a placeholder)\n",
        "- Explain what you did and why\n",
        "\n",
        "### In your response:\n",
        "1. What two columns did you clean?\n",
        "2. What method did you use for each, and why?\n",
        "3. What risks are there in how you filled the data?"
      ]
    },
    {
      "cell_type": "code",
      "execution_count": 23,
      "metadata": {
        "id": "AfoW3qQeSJuB",
        "colab": {
          "base_uri": "https://localhost:8080/"
        },
        "outputId": "6c9e5a36-4ea4-4244-b8f0-ffa195423fa0"
      },
      "outputs": [
        {
          "output_type": "stream",
          "name": "stdout",
          "text": [
            "<class 'pandas.core.frame.DataFrame'>\n",
            "RangeIndex: 459 entries, 0 to 458\n",
            "Data columns (total 78 columns):\n",
            " #   Column                                        Non-Null Count  Dtype  \n",
            "---  ------                                        --------------  -----  \n",
            " 0   id                                            459 non-null    int64  \n",
            " 1   listing_url                                   459 non-null    object \n",
            " 2   scrape_id                                     459 non-null    int64  \n",
            " 3   last_scraped                                  459 non-null    object \n",
            " 4   source                                        459 non-null    object \n",
            " 5   name                                          459 non-null    object \n",
            " 6   description                                   449 non-null    object \n",
            " 7   neighborhood_overview                         196 non-null    object \n",
            " 8   picture_url                                   459 non-null    object \n",
            " 9   host_id                                       459 non-null    int64  \n",
            " 10  host_url                                      459 non-null    object \n",
            " 11  host_name                                     459 non-null    object \n",
            " 12  host_since                                    459 non-null    object \n",
            " 13  host_location                                 345 non-null    object \n",
            " 14  host_about                                    251 non-null    object \n",
            " 15  host_response_time                            431 non-null    object \n",
            " 16  host_response_rate                            431 non-null    object \n",
            " 17  host_acceptance_rate                          446 non-null    object \n",
            " 18  host_is_superhost                             452 non-null    object \n",
            " 19  host_thumbnail_url                            459 non-null    object \n",
            " 20  host_picture_url                              459 non-null    object \n",
            " 21  host_neighbourhood                            389 non-null    object \n",
            " 22  host_listings_count                           459 non-null    int64  \n",
            " 23  host_total_listings_count                     459 non-null    int64  \n",
            " 24  host_verifications                            459 non-null    object \n",
            " 25  host_has_profile_pic                          459 non-null    object \n",
            " 26  host_identity_verified                        459 non-null    object \n",
            " 27  neighbourhood                                 196 non-null    object \n",
            " 28  neighbourhood_cleansed                        459 non-null    object \n",
            " 29  neighbourhood_group_cleansed                  0 non-null      float64\n",
            " 30  latitude                                      459 non-null    float64\n",
            " 31  longitude                                     459 non-null    float64\n",
            " 32  property_type                                 459 non-null    object \n",
            " 33  room_type                                     459 non-null    object \n",
            " 34  accommodates                                  459 non-null    int64  \n",
            " 35  bathrooms                                     419 non-null    float64\n",
            " 36  bathrooms_text                                459 non-null    object \n",
            " 37  bedrooms                                      453 non-null    float64\n",
            " 38  beds                                          419 non-null    float64\n",
            " 39  amenities                                     459 non-null    object \n",
            " 40  price                                         419 non-null    object \n",
            " 41  minimum_nights                                459 non-null    int64  \n",
            " 42  maximum_nights                                459 non-null    int64  \n",
            " 43  minimum_minimum_nights                        459 non-null    int64  \n",
            " 44  maximum_minimum_nights                        459 non-null    int64  \n",
            " 45  minimum_maximum_nights                        459 non-null    int64  \n",
            " 46  maximum_maximum_nights                        459 non-null    int64  \n",
            " 47  minimum_nights_avg_ntm                        459 non-null    float64\n",
            " 48  maximum_nights_avg_ntm                        459 non-null    float64\n",
            " 49  has_availability                              451 non-null    object \n",
            " 50  availability_30                               459 non-null    int64  \n",
            " 51  availability_60                               459 non-null    int64  \n",
            " 52  availability_90                               459 non-null    int64  \n",
            " 53  availability_365                              459 non-null    int64  \n",
            " 54  calendar_last_scraped                         459 non-null    object \n",
            " 55  number_of_reviews                             459 non-null    int64  \n",
            " 56  number_of_reviews_ltm                         459 non-null    int64  \n",
            " 57  number_of_reviews_l30d                        459 non-null    int64  \n",
            " 58  availability_eoy                              459 non-null    int64  \n",
            " 59  number_of_reviews_ly                          459 non-null    int64  \n",
            " 60  estimated_occupancy_l365d                     459 non-null    int64  \n",
            " 61  estimated_revenue_l365d                       419 non-null    float64\n",
            " 62  first_review                                  391 non-null    object \n",
            " 63  last_review                                   391 non-null    object \n",
            " 64  review_scores_rating                          459 non-null    float64\n",
            " 65  review_scores_accuracy                        391 non-null    float64\n",
            " 66  review_scores_cleanliness                     391 non-null    float64\n",
            " 67  review_scores_checkin                         391 non-null    float64\n",
            " 68  review_scores_communication                   391 non-null    float64\n",
            " 69  review_scores_location                        391 non-null    float64\n",
            " 70  review_scores_value                           391 non-null    float64\n",
            " 71  instant_bookable                              459 non-null    object \n",
            " 72  calculated_host_listings_count                459 non-null    int64  \n",
            " 73  calculated_host_listings_count_entire_homes   459 non-null    int64  \n",
            " 74  calculated_host_listings_count_private_rooms  459 non-null    int64  \n",
            " 75  calculated_host_listings_count_shared_rooms   459 non-null    int64  \n",
            " 76  reviews_per_month                             391 non-null    float64\n",
            " 77  null_price_values                             459 non-null    float64\n",
            "dtypes: float64(18), int64(26), object(34)\n",
            "memory usage: 279.8+ KB\n"
          ]
        }
      ],
      "source": [
        "# Your code for converting column data types 🔧\n",
        "df.fillna({'review_scores_rating': 0}, inplace=True)\n",
        "df['null_price_values'] = df['price'].isnull().astype(float)\n",
        "df.info()"
      ]
    },
    {
      "cell_type": "markdown",
      "metadata": {
        "id": "u1B2QQbZNoSj"
      },
      "source": [
        "### ✍️ Your Response: 🔧\n",
        "1. I cleaned the review_scores_rating and price.\n",
        "\n",
        "2. For review_scores_rating, I filled the null values with a placeholder. It can't be predicted using the fill or median methods because reviews cna be subjective. I picked a 0 because the lowest you can go for a rating is 1, so these placeholders can be easiily identified and disregarded. For price, I made a different variable that flagged null values. I did this because a placeholder might skew the data, and the prices don't have previous data to base them accurately off of.\n",
        "\n",
        "3. A risk of filling the null values with a placeholder is that if a regression analysis is done without excluding the null values then it can skew the results. The risk of flagging the null alues is that if the flag isn't adressed then the price column can skew the data.\n"
      ]
    },
    {
      "cell_type": "markdown",
      "metadata": {
        "id": "YmpUrgLVSNcl"
      },
      "source": [
        "## 5. Convert and Clean Data Types\n",
        "\n",
        "Business framing:  \n",
        "\n",
        "Sometimes columns that look like numbers are actually stored as text — which breaks calculations and slows down analysis. Common examples are price columns with dollar signs or availability stored as strings.\n",
        "\n",
        "- Identify one column with the wrong data type\n",
        "- Clean and convert it into a usable format (e.g., from string to number)\n",
        "- Check your work by summarizing or plotting the cleaned column\n",
        "\n",
        "### In Your Response: :\n",
        "1. What column did you fix?\n",
        "2. What cleaning steps did you apply?\n",
        "3. How does this help prepare the data for later use?\n"
      ]
    },
    {
      "cell_type": "code",
      "execution_count": 24,
      "metadata": {
        "id": "y637bPKuSNOL",
        "colab": {
          "base_uri": "https://localhost:8080/",
          "height": 543
        },
        "outputId": "89835c73-4c01-48f6-e8fe-b8b7351eba65"
      },
      "outputs": [
        {
          "output_type": "stream",
          "name": "stdout",
          "text": [
            "0       70.0\n",
            "1      104.0\n",
            "2       75.0\n",
            "3      101.0\n",
            "4      110.0\n",
            "       ...  \n",
            "454     72.0\n",
            "455    224.0\n",
            "456    238.0\n",
            "457    313.0\n",
            "458     58.0\n",
            "Name: price, Length: 459, dtype: float64\n"
          ]
        },
        {
          "output_type": "execute_result",
          "data": {
            "text/plain": [
              "count     419.000000\n",
              "mean      118.119332\n",
              "std       100.619541\n",
              "min        24.000000\n",
              "25%        70.500000\n",
              "50%        95.000000\n",
              "75%       127.000000\n",
              "max      1050.000000\n",
              "Name: price, dtype: float64"
            ],
            "text/html": [
              "<div>\n",
              "<style scoped>\n",
              "    .dataframe tbody tr th:only-of-type {\n",
              "        vertical-align: middle;\n",
              "    }\n",
              "\n",
              "    .dataframe tbody tr th {\n",
              "        vertical-align: top;\n",
              "    }\n",
              "\n",
              "    .dataframe thead th {\n",
              "        text-align: right;\n",
              "    }\n",
              "</style>\n",
              "<table border=\"1\" class=\"dataframe\">\n",
              "  <thead>\n",
              "    <tr style=\"text-align: right;\">\n",
              "      <th></th>\n",
              "      <th>price</th>\n",
              "    </tr>\n",
              "  </thead>\n",
              "  <tbody>\n",
              "    <tr>\n",
              "      <th>count</th>\n",
              "      <td>419.000000</td>\n",
              "    </tr>\n",
              "    <tr>\n",
              "      <th>mean</th>\n",
              "      <td>118.119332</td>\n",
              "    </tr>\n",
              "    <tr>\n",
              "      <th>std</th>\n",
              "      <td>100.619541</td>\n",
              "    </tr>\n",
              "    <tr>\n",
              "      <th>min</th>\n",
              "      <td>24.000000</td>\n",
              "    </tr>\n",
              "    <tr>\n",
              "      <th>25%</th>\n",
              "      <td>70.500000</td>\n",
              "    </tr>\n",
              "    <tr>\n",
              "      <th>50%</th>\n",
              "      <td>95.000000</td>\n",
              "    </tr>\n",
              "    <tr>\n",
              "      <th>75%</th>\n",
              "      <td>127.000000</td>\n",
              "    </tr>\n",
              "    <tr>\n",
              "      <th>max</th>\n",
              "      <td>1050.000000</td>\n",
              "    </tr>\n",
              "  </tbody>\n",
              "</table>\n",
              "</div><br><label><b>dtype:</b> float64</label>"
            ]
          },
          "metadata": {},
          "execution_count": 24
        }
      ],
      "source": [
        "# Clean or adjust your dataset 🔧\n",
        "df['price'] = df['price'].str.replace('$', '').str.replace(',', '').astype(float)\n",
        "print(df['price'])\n",
        "df['price'].describe()"
      ]
    },
    {
      "cell_type": "markdown",
      "metadata": {
        "id": "2QznnHuPGxdq"
      },
      "source": [
        "### ✍️ Your Response: 🔧\n",
        "1. The column that I fixed was price.\n",
        "\n",
        "2. The cleaning step I applied was changing the the data type to a float. I removed commas and dollar signs, then changed the values to a float because price is a continuous and can have cents.\n",
        "\n",
        "3. It prepares the data for later because it allows for regression and/or correlation analysis, allowing use to better predict a very important variable in a way that is most accurate and applicable."
      ]
    },
    {
      "cell_type": "markdown",
      "metadata": {
        "id": "Zvsas_ckG6-u"
      },
      "source": [
        "## 6. Remove Duplicate Records\n",
        "\n",
        "Business framing:  \n",
        "\n",
        "If a listing appears twice, it could inflate revenue estimates or confuse users. Airbnb needs each listing to be unique and accurate.\n",
        "\n",
        "- Check for rows that are exact duplicates\n",
        "- If your data has an ID column and each ID is supposed to unique, then make sure there are no duplicate IDs\n",
        "- Remove duplicates if found\n",
        "\n",
        "### In your markdown:\n",
        "1. Did you find duplicates?\n",
        "2. How did you decide what to drop or keep?\n",
        "3. Why are duplicates risky for Airbnb teams?\n"
      ]
    },
    {
      "cell_type": "code",
      "execution_count": 25,
      "metadata": {
        "id": "0KyeZUR0G_Tk",
        "colab": {
          "base_uri": "https://localhost:8080/"
        },
        "outputId": "bb7d18e6-df22-4591-adb1-bad9518a2765"
      },
      "outputs": [
        {
          "output_type": "stream",
          "name": "stdout",
          "text": [
            "Duplicate Rows: 0\n",
            "Duplicate ID's: 0\n",
            "Duplicate Host Id's: 267\n",
            "Duplicate Host Id's with the same URL: 0\n"
          ]
        }
      ],
      "source": [
        "# Add code here 🔧\n",
        "print(f\"Duplicate Rows: {df.duplicated().sum()}\")\n",
        "print(f\"Duplicate ID's: {df.duplicated(subset=['id']).sum()}\")\n",
        "print(f\"Duplicate Host Id's: {df.duplicated(subset=['host_id']).sum()}\")\n",
        "print(f\"Duplicate Host Id's with the same URL: {df.duplicated(subset=['host_id', 'listing_url']).sum()}\")"
      ]
    },
    {
      "cell_type": "markdown",
      "metadata": {
        "id": "OuTQ2nMAHBIO"
      },
      "source": [
        "### ✍️ Your Response: 🔧 🔧\n",
        "1. Yes, 267 Duplicate Host Id's.\n",
        "\n",
        "2. I kept all of the Host Id's because hosts can have multiple properties. After so cross-checking with listings, there were no duplicates.\n",
        "\n",
        "3. Duplicates are risky because they can skew the data."
      ]
    },
    {
      "cell_type": "markdown",
      "metadata": {
        "id": "6a8Rc945m9PQ"
      },
      "source": [
        "## 7. Export Cleaned Data\n",
        "\n",
        "Before wrapping up, export your cleaned Airbnb dataset to a CSV file. You'll need this file for **Assignment 7**, where you'll perform data transformation techniques.\n",
        "\n",
        "Make sure your data has:\n",
        "- Cleaned and consistent column values\n",
        "- Proper data types for each column\n",
        "- Any unnecessary columns removed\n",
        "\n",
        "This file should be the version of your dataset that you’d feel confident sharing with a teammate or using for deeper analysis.\n",
        "\n",
        "\n",
        "\n",
        "```\n",
        "# Explanation:\n",
        "# - \"cleaned_airbnb_data.csv\" is the name of the file that will be saved\n",
        "# - index=False prevents pandas from writing row numbers into the CSV\n",
        "# - The file will be saved to your working directory (in Colab, you'll need to download it manually. Once you see the data in your files tab, just click on the three dots, then click “download”)\n",
        "# - YOU MAY NEED TO PRESS “RUN” MULTIPLE TIMES IN ORDER FOR IT TO SHOW UP\n",
        "# - FOR SOME DEVICES, IT MAY TAKE A FEW MINUTES BEFORE YOUR FILE SHOWS UP\n",
        "\n",
        "```\n",
        "\n",
        "\n",
        "\n"
      ]
    },
    {
      "cell_type": "code",
      "execution_count": 26,
      "metadata": {
        "id": "SYjYwyYonTi9"
      },
      "outputs": [],
      "source": [
        "# export csv here 🔧\n",
        "df = df.drop(columns=['scrape_id', 'source', 'last_scraped', 'host_thumbnail_url'])\n",
        "df['first_review'] = pd.to_datetime(df['first_review'])\n",
        "df['last_review'] = pd.to_datetime(df['last_review'])\n",
        "df['host_since'] = pd.to_datetime(df['host_since'])\n",
        "host_response_rate = df['host_response_rate'].str.rstrip('%').astype('float') / 100.0\n",
        "df['host_response_rate'] = host_response_rate\n",
        "host_acceptance_rate = df['host_acceptance_rate'].str.rstrip('%').astype('float') / 100.0\n",
        "df['host_acceptance_rate'] = host_acceptance_rate\n",
        "host_listings_count = df['host_listings_count'].astype('Int64')\n",
        "df['host_listings_count'] = host_listings_count\n",
        "host_total_listings_count = df['host_total_listings_count'].astype('Int64')\n",
        "df['host_total_listings_count'] = host_total_listings_count\n",
        "bedrooms = df['bedrooms'].astype('Int64')\n",
        "df['bedrooms'] = bedrooms\n",
        "beds = df['beds'].astype('Int64')\n",
        "df['beds'] = beds\n",
        "df.to_csv('cleaned_airbnb_data.csv', index=False)"
      ]
    },
    {
      "cell_type": "markdown",
      "metadata": {
        "id": "HrhzfHDRSfkr"
      },
      "source": [
        "## 8. Final Reflection\n",
        "\n",
        "You’ve just cleaned a real-world Airbnb dataset — the kind of work that happens every day in analyst and data science roles.\n",
        "\n",
        "Before you move on to data transformation in Assignment 7, take a few moments to reflect on the decisions you made and what you learned.\n",
        "\n",
        "### In your markdown:\n",
        "1. What was the most surprising or challenging part of cleaning this dataset?\n",
        "2. How did you decide which data to drop, fix, or keep?\n",
        "3. What’s one way a business team (e.g., hosts, pricing analysts, platform ops) might benefit from the cleaned version of this data?\n",
        "4. If you had more time, what would you explore or clean further?\n",
        "5. How does this relate to your customized learning outcome you created in canvas?\n",
        "\n",
        "\n",
        "Write your response clearly in full sentences. No more than a few sentences required per response.\n"
      ]
    },
    {
      "cell_type": "markdown",
      "metadata": {
        "id": "oAFnMYRqSd7A"
      },
      "source": [
        "### ✍️ Your Response: 🔧\n",
        "\n",
        "1. The most challenging/surprising part of cleaning the dataset is the fact that there were so many null values. There were a couple columns with no values at all. Perhaps in other cities they are necessary or utilized, but in this case they weren't.\n",
        "2. They way I decided what to drop was to look at what wouldn't affect the outcome. For example, the thumbnail for the host wouldn't affect the price of the home, so I got rid of it. I decided what to fix based on what could affect teh price, but would be more meaningful. For example, first_review, last_review, and host_since I changed to dates, because it made more sense. I decided to keep the license variable because if we were to use this model for another city, in case they need a license, that variable would be useful.\n",
        "3. A business team would be able to benefit from the cleaned data by more accurately being able to predict home prices, and find out which variables affect it the most. This will help tnem understand which variables need to be prioritized for the hosts to make sure they have, in order to increase customer bookings.\n",
        "4. If I had more time, I would probably test to see whether some other variables had that much of an impact, like host_name. Another couple of variables that would be interesting to see is the longitude and latitude variables. I don't see how consumers would use those, as they would rather use addresses. So, those could be considered to drop.\n",
        "5. This relates to my customized learning outcomes, specifically \"Strategic Operations Decision-Making Through Analytics\" because data cleaning allows for making machine learning models to create sttageic operations. Using data analytics and modelling, I can know what affects pricing, and where to focus attention strategically.\n"
      ]
    },
    {
      "cell_type": "markdown",
      "metadata": {
        "id": "MIzm-EIeS065"
      },
      "source": [
        "## Submission Instructions\n",
        "✅ Checklist:\n",
        "- All code cells run without error\n",
        "- All markdown responses are complete\n",
        "- Submit on Canvas as instructed"
      ]
    },
    {
      "cell_type": "code",
      "execution_count": 28,
      "metadata": {
        "colab": {
          "base_uri": "https://localhost:8080/"
        },
        "id": "Wyr8nt0n7UMI",
        "outputId": "b99b94af-ef63-4be2-e56b-614cbe6916f2"
      },
      "outputs": [
        {
          "output_type": "stream",
          "name": "stdout",
          "text": [
            "[NbConvertApp] Converting notebook assignment_06_AndradeLeslie.ipynb to html\n",
            "[NbConvertApp] WARNING | Alternative text is missing on 1 image(s).\n",
            "[NbConvertApp] Writing 440504 bytes to assignment_06_AndradeLeslie.html\n"
          ]
        }
      ],
      "source": [
        "!jupyter nbconvert --to html \"assignment_06_AndradeLeslie.ipynb\""
      ]
    }
  ],
  "metadata": {
    "colab": {
      "provenance": []
    },
    "kernelspec": {
      "display_name": "Python 3",
      "name": "python3"
    },
    "language_info": {
      "name": "python"
    }
  },
  "nbformat": 4,
  "nbformat_minor": 0
}